{
  "nbformat": 4,
  "nbformat_minor": 0,
  "metadata": {
    "colab": {
      "provenance": [],
      "toc_visible": true
    },
    "kernelspec": {
      "name": "python3",
      "display_name": "Python 3"
    },
    "language_info": {
      "name": "python"
    }
  },
  "cells": [
    {
      "cell_type": "markdown",
      "source": [
        "# Import Library"
      ],
      "metadata": {
        "id": "BzuycOsWrF7P"
      }
    },
    {
      "cell_type": "code",
      "execution_count": 1,
      "metadata": {
        "id": "k1z54C_SrEAv"
      },
      "outputs": [],
      "source": [
        "import numpy as np\n",
        "import pandas as pd\n",
        "from sklearn.model_selection import train_test_split\n",
        "from tensorflow.keras.preprocessing.text import Tokenizer\n",
        "from tensorflow.keras.preprocessing.sequence import pad_sequences"
      ]
    },
    {
      "cell_type": "markdown",
      "source": [
        "# Import Dataset"
      ],
      "metadata": {
        "id": "xRu9Ly3OrVnI"
      }
    },
    {
      "cell_type": "code",
      "source": [
        "data = pd.read_csv(\"Restaurant_Reviews.tsv\", delimiter='\\t')\n",
        "data.head()"
      ],
      "metadata": {
        "colab": {
          "base_uri": "https://localhost:8080/",
          "height": 206
        },
        "id": "RYtLyK95rZRT",
        "outputId": "078c6573-8efe-44b4-9089-e585783778e7"
      },
      "execution_count": 2,
      "outputs": [
        {
          "output_type": "execute_result",
          "data": {
            "text/plain": [
              "                                              Review  Liked\n",
              "0                           Wow... Loved this place.      1\n",
              "1                                 Crust is not good.      0\n",
              "2          Not tasty and the texture was just nasty.      0\n",
              "3  Stopped by during the late May bank holiday of...      1\n",
              "4  The selection on the menu was great and so wer...      1"
            ],
            "text/html": [
              "\n",
              "  <div id=\"df-4fbf0bc8-615f-41af-8375-3e2e439e2b7e\" class=\"colab-df-container\">\n",
              "    <div>\n",
              "<style scoped>\n",
              "    .dataframe tbody tr th:only-of-type {\n",
              "        vertical-align: middle;\n",
              "    }\n",
              "\n",
              "    .dataframe tbody tr th {\n",
              "        vertical-align: top;\n",
              "    }\n",
              "\n",
              "    .dataframe thead th {\n",
              "        text-align: right;\n",
              "    }\n",
              "</style>\n",
              "<table border=\"1\" class=\"dataframe\">\n",
              "  <thead>\n",
              "    <tr style=\"text-align: right;\">\n",
              "      <th></th>\n",
              "      <th>Review</th>\n",
              "      <th>Liked</th>\n",
              "    </tr>\n",
              "  </thead>\n",
              "  <tbody>\n",
              "    <tr>\n",
              "      <th>0</th>\n",
              "      <td>Wow... Loved this place.</td>\n",
              "      <td>1</td>\n",
              "    </tr>\n",
              "    <tr>\n",
              "      <th>1</th>\n",
              "      <td>Crust is not good.</td>\n",
              "      <td>0</td>\n",
              "    </tr>\n",
              "    <tr>\n",
              "      <th>2</th>\n",
              "      <td>Not tasty and the texture was just nasty.</td>\n",
              "      <td>0</td>\n",
              "    </tr>\n",
              "    <tr>\n",
              "      <th>3</th>\n",
              "      <td>Stopped by during the late May bank holiday of...</td>\n",
              "      <td>1</td>\n",
              "    </tr>\n",
              "    <tr>\n",
              "      <th>4</th>\n",
              "      <td>The selection on the menu was great and so wer...</td>\n",
              "      <td>1</td>\n",
              "    </tr>\n",
              "  </tbody>\n",
              "</table>\n",
              "</div>\n",
              "    <div class=\"colab-df-buttons\">\n",
              "\n",
              "  <div class=\"colab-df-container\">\n",
              "    <button class=\"colab-df-convert\" onclick=\"convertToInteractive('df-4fbf0bc8-615f-41af-8375-3e2e439e2b7e')\"\n",
              "            title=\"Convert this dataframe to an interactive table.\"\n",
              "            style=\"display:none;\">\n",
              "\n",
              "  <svg xmlns=\"http://www.w3.org/2000/svg\" height=\"24px\" viewBox=\"0 -960 960 960\">\n",
              "    <path d=\"M120-120v-720h720v720H120Zm60-500h600v-160H180v160Zm220 220h160v-160H400v160Zm0 220h160v-160H400v160ZM180-400h160v-160H180v160Zm440 0h160v-160H620v160ZM180-180h160v-160H180v160Zm440 0h160v-160H620v160Z\"/>\n",
              "  </svg>\n",
              "    </button>\n",
              "\n",
              "  <style>\n",
              "    .colab-df-container {\n",
              "      display:flex;\n",
              "      gap: 12px;\n",
              "    }\n",
              "\n",
              "    .colab-df-convert {\n",
              "      background-color: #E8F0FE;\n",
              "      border: none;\n",
              "      border-radius: 50%;\n",
              "      cursor: pointer;\n",
              "      display: none;\n",
              "      fill: #1967D2;\n",
              "      height: 32px;\n",
              "      padding: 0 0 0 0;\n",
              "      width: 32px;\n",
              "    }\n",
              "\n",
              "    .colab-df-convert:hover {\n",
              "      background-color: #E2EBFA;\n",
              "      box-shadow: 0px 1px 2px rgba(60, 64, 67, 0.3), 0px 1px 3px 1px rgba(60, 64, 67, 0.15);\n",
              "      fill: #174EA6;\n",
              "    }\n",
              "\n",
              "    .colab-df-buttons div {\n",
              "      margin-bottom: 4px;\n",
              "    }\n",
              "\n",
              "    [theme=dark] .colab-df-convert {\n",
              "      background-color: #3B4455;\n",
              "      fill: #D2E3FC;\n",
              "    }\n",
              "\n",
              "    [theme=dark] .colab-df-convert:hover {\n",
              "      background-color: #434B5C;\n",
              "      box-shadow: 0px 1px 3px 1px rgba(0, 0, 0, 0.15);\n",
              "      filter: drop-shadow(0px 1px 2px rgba(0, 0, 0, 0.3));\n",
              "      fill: #FFFFFF;\n",
              "    }\n",
              "  </style>\n",
              "\n",
              "    <script>\n",
              "      const buttonEl =\n",
              "        document.querySelector('#df-4fbf0bc8-615f-41af-8375-3e2e439e2b7e button.colab-df-convert');\n",
              "      buttonEl.style.display =\n",
              "        google.colab.kernel.accessAllowed ? 'block' : 'none';\n",
              "\n",
              "      async function convertToInteractive(key) {\n",
              "        const element = document.querySelector('#df-4fbf0bc8-615f-41af-8375-3e2e439e2b7e');\n",
              "        const dataTable =\n",
              "          await google.colab.kernel.invokeFunction('convertToInteractive',\n",
              "                                                    [key], {});\n",
              "        if (!dataTable) return;\n",
              "\n",
              "        const docLinkHtml = 'Like what you see? Visit the ' +\n",
              "          '<a target=\"_blank\" href=https://colab.research.google.com/notebooks/data_table.ipynb>data table notebook</a>'\n",
              "          + ' to learn more about interactive tables.';\n",
              "        element.innerHTML = '';\n",
              "        dataTable['output_type'] = 'display_data';\n",
              "        await google.colab.output.renderOutput(dataTable, element);\n",
              "        const docLink = document.createElement('div');\n",
              "        docLink.innerHTML = docLinkHtml;\n",
              "        element.appendChild(docLink);\n",
              "      }\n",
              "    </script>\n",
              "  </div>\n",
              "\n",
              "\n",
              "<div id=\"df-99d7dc15-822d-4da7-9027-58089c3ae41b\">\n",
              "  <button class=\"colab-df-quickchart\" onclick=\"quickchart('df-99d7dc15-822d-4da7-9027-58089c3ae41b')\"\n",
              "            title=\"Suggest charts\"\n",
              "            style=\"display:none;\">\n",
              "\n",
              "<svg xmlns=\"http://www.w3.org/2000/svg\" height=\"24px\"viewBox=\"0 0 24 24\"\n",
              "     width=\"24px\">\n",
              "    <g>\n",
              "        <path d=\"M19 3H5c-1.1 0-2 .9-2 2v14c0 1.1.9 2 2 2h14c1.1 0 2-.9 2-2V5c0-1.1-.9-2-2-2zM9 17H7v-7h2v7zm4 0h-2V7h2v10zm4 0h-2v-4h2v4z\"/>\n",
              "    </g>\n",
              "</svg>\n",
              "  </button>\n",
              "\n",
              "<style>\n",
              "  .colab-df-quickchart {\n",
              "      --bg-color: #E8F0FE;\n",
              "      --fill-color: #1967D2;\n",
              "      --hover-bg-color: #E2EBFA;\n",
              "      --hover-fill-color: #174EA6;\n",
              "      --disabled-fill-color: #AAA;\n",
              "      --disabled-bg-color: #DDD;\n",
              "  }\n",
              "\n",
              "  [theme=dark] .colab-df-quickchart {\n",
              "      --bg-color: #3B4455;\n",
              "      --fill-color: #D2E3FC;\n",
              "      --hover-bg-color: #434B5C;\n",
              "      --hover-fill-color: #FFFFFF;\n",
              "      --disabled-bg-color: #3B4455;\n",
              "      --disabled-fill-color: #666;\n",
              "  }\n",
              "\n",
              "  .colab-df-quickchart {\n",
              "    background-color: var(--bg-color);\n",
              "    border: none;\n",
              "    border-radius: 50%;\n",
              "    cursor: pointer;\n",
              "    display: none;\n",
              "    fill: var(--fill-color);\n",
              "    height: 32px;\n",
              "    padding: 0;\n",
              "    width: 32px;\n",
              "  }\n",
              "\n",
              "  .colab-df-quickchart:hover {\n",
              "    background-color: var(--hover-bg-color);\n",
              "    box-shadow: 0 1px 2px rgba(60, 64, 67, 0.3), 0 1px 3px 1px rgba(60, 64, 67, 0.15);\n",
              "    fill: var(--button-hover-fill-color);\n",
              "  }\n",
              "\n",
              "  .colab-df-quickchart-complete:disabled,\n",
              "  .colab-df-quickchart-complete:disabled:hover {\n",
              "    background-color: var(--disabled-bg-color);\n",
              "    fill: var(--disabled-fill-color);\n",
              "    box-shadow: none;\n",
              "  }\n",
              "\n",
              "  .colab-df-spinner {\n",
              "    border: 2px solid var(--fill-color);\n",
              "    border-color: transparent;\n",
              "    border-bottom-color: var(--fill-color);\n",
              "    animation:\n",
              "      spin 1s steps(1) infinite;\n",
              "  }\n",
              "\n",
              "  @keyframes spin {\n",
              "    0% {\n",
              "      border-color: transparent;\n",
              "      border-bottom-color: var(--fill-color);\n",
              "      border-left-color: var(--fill-color);\n",
              "    }\n",
              "    20% {\n",
              "      border-color: transparent;\n",
              "      border-left-color: var(--fill-color);\n",
              "      border-top-color: var(--fill-color);\n",
              "    }\n",
              "    30% {\n",
              "      border-color: transparent;\n",
              "      border-left-color: var(--fill-color);\n",
              "      border-top-color: var(--fill-color);\n",
              "      border-right-color: var(--fill-color);\n",
              "    }\n",
              "    40% {\n",
              "      border-color: transparent;\n",
              "      border-right-color: var(--fill-color);\n",
              "      border-top-color: var(--fill-color);\n",
              "    }\n",
              "    60% {\n",
              "      border-color: transparent;\n",
              "      border-right-color: var(--fill-color);\n",
              "    }\n",
              "    80% {\n",
              "      border-color: transparent;\n",
              "      border-right-color: var(--fill-color);\n",
              "      border-bottom-color: var(--fill-color);\n",
              "    }\n",
              "    90% {\n",
              "      border-color: transparent;\n",
              "      border-bottom-color: var(--fill-color);\n",
              "    }\n",
              "  }\n",
              "</style>\n",
              "\n",
              "  <script>\n",
              "    async function quickchart(key) {\n",
              "      const quickchartButtonEl =\n",
              "        document.querySelector('#' + key + ' button');\n",
              "      quickchartButtonEl.disabled = true;  // To prevent multiple clicks.\n",
              "      quickchartButtonEl.classList.add('colab-df-spinner');\n",
              "      try {\n",
              "        const charts = await google.colab.kernel.invokeFunction(\n",
              "            'suggestCharts', [key], {});\n",
              "      } catch (error) {\n",
              "        console.error('Error during call to suggestCharts:', error);\n",
              "      }\n",
              "      quickchartButtonEl.classList.remove('colab-df-spinner');\n",
              "      quickchartButtonEl.classList.add('colab-df-quickchart-complete');\n",
              "    }\n",
              "    (() => {\n",
              "      let quickchartButtonEl =\n",
              "        document.querySelector('#df-99d7dc15-822d-4da7-9027-58089c3ae41b button');\n",
              "      quickchartButtonEl.style.display =\n",
              "        google.colab.kernel.accessAllowed ? 'block' : 'none';\n",
              "    })();\n",
              "  </script>\n",
              "</div>\n",
              "    </div>\n",
              "  </div>\n"
            ],
            "application/vnd.google.colaboratory.intrinsic+json": {
              "type": "dataframe",
              "variable_name": "data",
              "summary": "{\n  \"name\": \"data\",\n  \"rows\": 1000,\n  \"fields\": [\n    {\n      \"column\": \"Review\",\n      \"properties\": {\n        \"dtype\": \"string\",\n        \"num_unique_values\": 996,\n        \"samples\": [\n          \"They were excellent.\",\n          \"Your servers suck, wait, correction, our server Heimer sucked.\",\n          \"Will be back again!\"\n        ],\n        \"semantic_type\": \"\",\n        \"description\": \"\"\n      }\n    },\n    {\n      \"column\": \"Liked\",\n      \"properties\": {\n        \"dtype\": \"number\",\n        \"std\": 0,\n        \"min\": 0,\n        \"max\": 1,\n        \"num_unique_values\": 2,\n        \"samples\": [\n          0,\n          1\n        ],\n        \"semantic_type\": \"\",\n        \"description\": \"\"\n      }\n    }\n  ]\n}"
            }
          },
          "metadata": {},
          "execution_count": 2
        }
      ]
    },
    {
      "cell_type": "code",
      "source": [
        "# Cek ukuran dataset\n",
        "\n",
        "data.shape"
      ],
      "metadata": {
        "colab": {
          "base_uri": "https://localhost:8080/"
        },
        "id": "weRW3WD2r2iP",
        "outputId": "11d1f89d-35f3-4fb2-9be9-d449b2db2811"
      },
      "execution_count": 3,
      "outputs": [
        {
          "output_type": "execute_result",
          "data": {
            "text/plain": [
              "(1000, 2)"
            ]
          },
          "metadata": {},
          "execution_count": 3
        }
      ]
    },
    {
      "cell_type": "code",
      "source": [
        "# Cek informasi dataset\n",
        "\n",
        "data.info()"
      ],
      "metadata": {
        "colab": {
          "base_uri": "https://localhost:8080/"
        },
        "id": "IzTBVZqzsYrd",
        "outputId": "ff3d3df4-dd0f-436c-f983-9b3d8327122a"
      },
      "execution_count": 4,
      "outputs": [
        {
          "output_type": "stream",
          "name": "stdout",
          "text": [
            "<class 'pandas.core.frame.DataFrame'>\n",
            "RangeIndex: 1000 entries, 0 to 999\n",
            "Data columns (total 2 columns):\n",
            " #   Column  Non-Null Count  Dtype \n",
            "---  ------  --------------  ----- \n",
            " 0   Review  1000 non-null   object\n",
            " 1   Liked   1000 non-null   int64 \n",
            "dtypes: int64(1), object(1)\n",
            "memory usage: 15.8+ KB\n"
          ]
        }
      ]
    },
    {
      "cell_type": "markdown",
      "source": [
        "# Splitting Data"
      ],
      "metadata": {
        "id": "q7svlJGJsgzu"
      }
    },
    {
      "cell_type": "code",
      "source": [
        "x = data['Review'].values\n",
        "y = data['Liked'].values\n",
        "\n",
        "x_train, x_test, y_train, y_test = train_test_split(x, y, test_size = 0.2)"
      ],
      "metadata": {
        "id": "HIK6TG43sczt"
      },
      "execution_count": 5,
      "outputs": []
    },
    {
      "cell_type": "markdown",
      "source": [
        "# Modelling Data"
      ],
      "metadata": {
        "id": "i9KH8-kqsvO7"
      }
    },
    {
      "cell_type": "code",
      "source": [
        "tokenizer = Tokenizer(num_words = 1000, oov_token = 'x')\n",
        "tokenizer.fit_on_texts(x_train)\n",
        "tokenizer.fit_on_texts(x_test)\n",
        "\n",
        "sekuen_train = tokenizer.texts_to_sequences(x_train)\n",
        "sekuen_test = tokenizer.texts_to_sequences(x_test)\n",
        "\n",
        "padded_train = pad_sequences(sekuen_train, maxlen = 120)\n",
        "padded_test = pad_sequences(sekuen_test, maxlen = 120)"
      ],
      "metadata": {
        "id": "N69QnqqEsoKM"
      },
      "execution_count": 6,
      "outputs": []
    },
    {
      "cell_type": "code",
      "source": [
        "print(\"MELIHAT SEMBARANG NILAI\")\n",
        "print(\"-----------------------\\n\")\n",
        "\n",
        "print(f\"Nilai x_train[0] : {x_train[0]}\")\n",
        "print(f\"Nilai sekuen_train[0] : {sekuen_train[0]}\")\n",
        "print(f\"Nilai padded_train[0] : {padded_train[0]}\")\n"
      ],
      "metadata": {
        "colab": {
          "base_uri": "https://localhost:8080/"
        },
        "id": "w1ySNwPRt1Jw",
        "outputId": "df9d4d02-ecef-41ce-e036-84c03f92d33f"
      },
      "execution_count": 7,
      "outputs": [
        {
          "output_type": "stream",
          "name": "stdout",
          "text": [
            "MELIHAT SEMBARANG NILAI\n",
            "-----------------------\n",
            "\n",
            "Nilai x_train[0] : -My order was not correct.\n",
            "Nilai sekuen_train[0] : [21, 152, 5, 13, 899]\n",
            "Nilai padded_train[0] : [  0   0   0   0   0   0   0   0   0   0   0   0   0   0   0   0   0   0\n",
            "   0   0   0   0   0   0   0   0   0   0   0   0   0   0   0   0   0   0\n",
            "   0   0   0   0   0   0   0   0   0   0   0   0   0   0   0   0   0   0\n",
            "   0   0   0   0   0   0   0   0   0   0   0   0   0   0   0   0   0   0\n",
            "   0   0   0   0   0   0   0   0   0   0   0   0   0   0   0   0   0   0\n",
            "   0   0   0   0   0   0   0   0   0   0   0   0   0   0   0   0   0   0\n",
            "   0   0   0   0   0   0   0  21 152   5  13 899]\n"
          ]
        }
      ]
    },
    {
      "cell_type": "code",
      "source": [
        "import tensorflow as tf\n",
        "\n",
        "model = tf.keras.Sequential([\n",
        "    tf.keras.layers.Embedding(1000, 16, input_length = 120),\n",
        "    tf.keras.layers.GlobalAveragePooling1D(),\n",
        "    tf.keras.layers.Dense(24, activation = 'relu'),\n",
        "    tf.keras.layers.Dense(1, activation = 'sigmoid')\n",
        "])\n",
        "\n",
        "model.summary()\n",
        "\n",
        "model.compile(loss = 'binary_crossentropy', optimizer = 'adam', metrics = ['accuracy'])"
      ],
      "metadata": {
        "colab": {
          "base_uri": "https://localhost:8080/"
        },
        "id": "NK6ygG1btIcB",
        "outputId": "cf85a382-2c95-477c-ec9e-f03f3d38b78a"
      },
      "execution_count": 8,
      "outputs": [
        {
          "output_type": "stream",
          "name": "stdout",
          "text": [
            "Model: \"sequential\"\n",
            "_________________________________________________________________\n",
            " Layer (type)                Output Shape              Param #   \n",
            "=================================================================\n",
            " embedding (Embedding)       (None, 120, 16)           16000     \n",
            "                                                                 \n",
            " global_average_pooling1d (  (None, 16)                0         \n",
            " GlobalAveragePooling1D)                                         \n",
            "                                                                 \n",
            " dense (Dense)               (None, 24)                408       \n",
            "                                                                 \n",
            " dense_1 (Dense)             (None, 1)                 25        \n",
            "                                                                 \n",
            "=================================================================\n",
            "Total params: 16433 (64.19 KB)\n",
            "Trainable params: 16433 (64.19 KB)\n",
            "Non-trainable params: 0 (0.00 Byte)\n",
            "_________________________________________________________________\n"
          ]
        }
      ]
    },
    {
      "cell_type": "code",
      "source": [
        "num_epochs = 50\n",
        "\n",
        "history = model.fit(padded_train, y_train, epochs=num_epochs,\n",
        "                    validation_data = (padded_test, y_test), verbose = 2)"
      ],
      "metadata": {
        "colab": {
          "base_uri": "https://localhost:8080/"
        },
        "id": "xjP0J3O0tWW1",
        "outputId": "48566c44-25bf-4615-bbf0-43a5f14f82e9"
      },
      "execution_count": 9,
      "outputs": [
        {
          "output_type": "stream",
          "name": "stdout",
          "text": [
            "Epoch 1/50\n",
            "25/25 - 2s - loss: 0.6931 - accuracy: 0.5238 - val_loss: 0.6928 - val_accuracy: 0.5850 - 2s/epoch - 82ms/step\n",
            "Epoch 2/50\n",
            "25/25 - 0s - loss: 0.6926 - accuracy: 0.5575 - val_loss: 0.6925 - val_accuracy: 0.6200 - 226ms/epoch - 9ms/step\n",
            "Epoch 3/50\n",
            "25/25 - 0s - loss: 0.6917 - accuracy: 0.5337 - val_loss: 0.6922 - val_accuracy: 0.4900 - 335ms/epoch - 13ms/step\n",
            "Epoch 4/50\n",
            "25/25 - 0s - loss: 0.6909 - accuracy: 0.6037 - val_loss: 0.6914 - val_accuracy: 0.7150 - 340ms/epoch - 14ms/step\n",
            "Epoch 5/50\n",
            "25/25 - 0s - loss: 0.6893 - accuracy: 0.6850 - val_loss: 0.6902 - val_accuracy: 0.7100 - 220ms/epoch - 9ms/step\n",
            "Epoch 6/50\n",
            "25/25 - 0s - loss: 0.6870 - accuracy: 0.7200 - val_loss: 0.6887 - val_accuracy: 0.6800 - 208ms/epoch - 8ms/step\n",
            "Epoch 7/50\n",
            "25/25 - 0s - loss: 0.6836 - accuracy: 0.7738 - val_loss: 0.6864 - val_accuracy: 0.7000 - 288ms/epoch - 12ms/step\n",
            "Epoch 8/50\n",
            "25/25 - 0s - loss: 0.6801 - accuracy: 0.6637 - val_loss: 0.6834 - val_accuracy: 0.6150 - 237ms/epoch - 9ms/step\n",
            "Epoch 9/50\n",
            "25/25 - 0s - loss: 0.6748 - accuracy: 0.6650 - val_loss: 0.6798 - val_accuracy: 0.7100 - 231ms/epoch - 9ms/step\n",
            "Epoch 10/50\n",
            "25/25 - 0s - loss: 0.6653 - accuracy: 0.7775 - val_loss: 0.6745 - val_accuracy: 0.7300 - 168ms/epoch - 7ms/step\n",
            "Epoch 11/50\n",
            "25/25 - 0s - loss: 0.6546 - accuracy: 0.8163 - val_loss: 0.6679 - val_accuracy: 0.7200 - 224ms/epoch - 9ms/step\n",
            "Epoch 12/50\n",
            "25/25 - 0s - loss: 0.6419 - accuracy: 0.8062 - val_loss: 0.6618 - val_accuracy: 0.6950 - 177ms/epoch - 7ms/step\n",
            "Epoch 13/50\n",
            "25/25 - 0s - loss: 0.6253 - accuracy: 0.7525 - val_loss: 0.6523 - val_accuracy: 0.7100 - 297ms/epoch - 12ms/step\n",
            "Epoch 14/50\n",
            "25/25 - 0s - loss: 0.6073 - accuracy: 0.8225 - val_loss: 0.6390 - val_accuracy: 0.7150 - 110ms/epoch - 4ms/step\n",
            "Epoch 15/50\n",
            "25/25 - 0s - loss: 0.5873 - accuracy: 0.8025 - val_loss: 0.6298 - val_accuracy: 0.7250 - 106ms/epoch - 4ms/step\n",
            "Epoch 16/50\n",
            "25/25 - 0s - loss: 0.5627 - accuracy: 0.8388 - val_loss: 0.6134 - val_accuracy: 0.7200 - 122ms/epoch - 5ms/step\n",
            "Epoch 17/50\n",
            "25/25 - 0s - loss: 0.5395 - accuracy: 0.8425 - val_loss: 0.6007 - val_accuracy: 0.7500 - 119ms/epoch - 5ms/step\n",
            "Epoch 18/50\n",
            "25/25 - 0s - loss: 0.5156 - accuracy: 0.8500 - val_loss: 0.5891 - val_accuracy: 0.7600 - 101ms/epoch - 4ms/step\n",
            "Epoch 19/50\n",
            "25/25 - 0s - loss: 0.4895 - accuracy: 0.8662 - val_loss: 0.5750 - val_accuracy: 0.7600 - 103ms/epoch - 4ms/step\n",
            "Epoch 20/50\n",
            "25/25 - 0s - loss: 0.4648 - accuracy: 0.8775 - val_loss: 0.5618 - val_accuracy: 0.7600 - 113ms/epoch - 5ms/step\n",
            "Epoch 21/50\n",
            "25/25 - 0s - loss: 0.4413 - accuracy: 0.8838 - val_loss: 0.5509 - val_accuracy: 0.7600 - 227ms/epoch - 9ms/step\n",
            "Epoch 22/50\n",
            "25/25 - 0s - loss: 0.4201 - accuracy: 0.8763 - val_loss: 0.5340 - val_accuracy: 0.7400 - 166ms/epoch - 7ms/step\n",
            "Epoch 23/50\n",
            "25/25 - 0s - loss: 0.3968 - accuracy: 0.9013 - val_loss: 0.5224 - val_accuracy: 0.7350 - 210ms/epoch - 8ms/step\n",
            "Epoch 24/50\n",
            "25/25 - 0s - loss: 0.3802 - accuracy: 0.8838 - val_loss: 0.5127 - val_accuracy: 0.7650 - 170ms/epoch - 7ms/step\n",
            "Epoch 25/50\n",
            "25/25 - 0s - loss: 0.3564 - accuracy: 0.9137 - val_loss: 0.5033 - val_accuracy: 0.7750 - 160ms/epoch - 6ms/step\n",
            "Epoch 26/50\n",
            "25/25 - 0s - loss: 0.3392 - accuracy: 0.9075 - val_loss: 0.4933 - val_accuracy: 0.7650 - 165ms/epoch - 7ms/step\n",
            "Epoch 27/50\n",
            "25/25 - 0s - loss: 0.3208 - accuracy: 0.9212 - val_loss: 0.4930 - val_accuracy: 0.7850 - 140ms/epoch - 6ms/step\n",
            "Epoch 28/50\n",
            "25/25 - 0s - loss: 0.3026 - accuracy: 0.9187 - val_loss: 0.4768 - val_accuracy: 0.7700 - 141ms/epoch - 6ms/step\n",
            "Epoch 29/50\n",
            "25/25 - 0s - loss: 0.2886 - accuracy: 0.9362 - val_loss: 0.4692 - val_accuracy: 0.7900 - 127ms/epoch - 5ms/step\n",
            "Epoch 30/50\n",
            "25/25 - 0s - loss: 0.2737 - accuracy: 0.9400 - val_loss: 0.4623 - val_accuracy: 0.7900 - 134ms/epoch - 5ms/step\n",
            "Epoch 31/50\n",
            "25/25 - 0s - loss: 0.2588 - accuracy: 0.9463 - val_loss: 0.4588 - val_accuracy: 0.7900 - 189ms/epoch - 8ms/step\n",
            "Epoch 32/50\n",
            "25/25 - 0s - loss: 0.2465 - accuracy: 0.9488 - val_loss: 0.4654 - val_accuracy: 0.7900 - 165ms/epoch - 7ms/step\n",
            "Epoch 33/50\n",
            "25/25 - 0s - loss: 0.2358 - accuracy: 0.9488 - val_loss: 0.4548 - val_accuracy: 0.8000 - 186ms/epoch - 7ms/step\n",
            "Epoch 34/50\n",
            "25/25 - 0s - loss: 0.2227 - accuracy: 0.9475 - val_loss: 0.4421 - val_accuracy: 0.7900 - 213ms/epoch - 9ms/step\n",
            "Epoch 35/50\n",
            "25/25 - 0s - loss: 0.2148 - accuracy: 0.9500 - val_loss: 0.4460 - val_accuracy: 0.8050 - 227ms/epoch - 9ms/step\n",
            "Epoch 36/50\n",
            "25/25 - 0s - loss: 0.2013 - accuracy: 0.9525 - val_loss: 0.4363 - val_accuracy: 0.7900 - 164ms/epoch - 7ms/step\n",
            "Epoch 37/50\n",
            "25/25 - 0s - loss: 0.1934 - accuracy: 0.9613 - val_loss: 0.4338 - val_accuracy: 0.7850 - 221ms/epoch - 9ms/step\n",
            "Epoch 38/50\n",
            "25/25 - 0s - loss: 0.1828 - accuracy: 0.9613 - val_loss: 0.4366 - val_accuracy: 0.8050 - 198ms/epoch - 8ms/step\n",
            "Epoch 39/50\n",
            "25/25 - 0s - loss: 0.1757 - accuracy: 0.9600 - val_loss: 0.4345 - val_accuracy: 0.8100 - 156ms/epoch - 6ms/step\n",
            "Epoch 40/50\n",
            "25/25 - 0s - loss: 0.1673 - accuracy: 0.9638 - val_loss: 0.4318 - val_accuracy: 0.8000 - 111ms/epoch - 4ms/step\n",
            "Epoch 41/50\n",
            "25/25 - 0s - loss: 0.1604 - accuracy: 0.9700 - val_loss: 0.4316 - val_accuracy: 0.8050 - 95ms/epoch - 4ms/step\n",
            "Epoch 42/50\n",
            "25/25 - 0s - loss: 0.1501 - accuracy: 0.9737 - val_loss: 0.4610 - val_accuracy: 0.7950 - 105ms/epoch - 4ms/step\n",
            "Epoch 43/50\n",
            "25/25 - 0s - loss: 0.1504 - accuracy: 0.9650 - val_loss: 0.4296 - val_accuracy: 0.8000 - 101ms/epoch - 4ms/step\n",
            "Epoch 44/50\n",
            "25/25 - 0s - loss: 0.1404 - accuracy: 0.9712 - val_loss: 0.4349 - val_accuracy: 0.8100 - 99ms/epoch - 4ms/step\n",
            "Epoch 45/50\n",
            "25/25 - 0s - loss: 0.1380 - accuracy: 0.9712 - val_loss: 0.4356 - val_accuracy: 0.7950 - 106ms/epoch - 4ms/step\n",
            "Epoch 46/50\n",
            "25/25 - 0s - loss: 0.1293 - accuracy: 0.9750 - val_loss: 0.4327 - val_accuracy: 0.8200 - 144ms/epoch - 6ms/step\n",
            "Epoch 47/50\n",
            "25/25 - 0s - loss: 0.1244 - accuracy: 0.9787 - val_loss: 0.4349 - val_accuracy: 0.8200 - 101ms/epoch - 4ms/step\n",
            "Epoch 48/50\n",
            "25/25 - 0s - loss: 0.1189 - accuracy: 0.9812 - val_loss: 0.4356 - val_accuracy: 0.8100 - 94ms/epoch - 4ms/step\n",
            "Epoch 49/50\n",
            "25/25 - 0s - loss: 0.1178 - accuracy: 0.9750 - val_loss: 0.4516 - val_accuracy: 0.8100 - 96ms/epoch - 4ms/step\n",
            "Epoch 50/50\n",
            "25/25 - 0s - loss: 0.1094 - accuracy: 0.9825 - val_loss: 0.4405 - val_accuracy: 0.8050 - 103ms/epoch - 4ms/step\n"
          ]
        }
      ]
    },
    {
      "cell_type": "markdown",
      "source": [
        "# Test Model"
      ],
      "metadata": {
        "id": "0M1INdjhtoBH"
      }
    },
    {
      "cell_type": "code",
      "source": [
        "print(\"MELIHAT SEMBARANG NILAI\")\n",
        "print(\"-----------------------\\n\")\n",
        "\n",
        "print(f\"Nilai x_test[1] : {x_test[1]}\")\n",
        "print(f\"Nilai sekuen_test[1] : {sekuen_test[1]}\")\n",
        "print(f\"Nilai padded_test[1] : {padded_test[1]}\")\n"
      ],
      "metadata": {
        "colab": {
          "base_uri": "https://localhost:8080/"
        },
        "id": "0WQQKYOQvlEa",
        "outputId": "e642c121-d1fc-4c83-e04b-47568ce9f2d9"
      },
      "execution_count": 10,
      "outputs": [
        {
          "output_type": "stream",
          "name": "stdout",
          "text": [
            "MELIHAT SEMBARANG NILAI\n",
            "-----------------------\n",
            "\n",
            "Nilai x_test[1] : She ordered a toasted English muffin that came out untoasted.\n",
            "Nilai sekuen_test[1] : [185, 127, 6, 885, 1, 1, 25, 76, 60, 1]\n",
            "Nilai padded_test[1] : [  0   0   0   0   0   0   0   0   0   0   0   0   0   0   0   0   0   0\n",
            "   0   0   0   0   0   0   0   0   0   0   0   0   0   0   0   0   0   0\n",
            "   0   0   0   0   0   0   0   0   0   0   0   0   0   0   0   0   0   0\n",
            "   0   0   0   0   0   0   0   0   0   0   0   0   0   0   0   0   0   0\n",
            "   0   0   0   0   0   0   0   0   0   0   0   0   0   0   0   0   0   0\n",
            "   0   0   0   0   0   0   0   0   0   0   0   0   0   0   0   0   0   0\n",
            "   0   0 185 127   6 885   1   1  25  76  60   1]\n"
          ]
        }
      ]
    },
    {
      "cell_type": "code",
      "source": [
        "padded_test[1]"
      ],
      "metadata": {
        "colab": {
          "base_uri": "https://localhost:8080/"
        },
        "id": "8EPc9x8pwNRP",
        "outputId": "423e036a-be7a-4af3-ce72-b8ad916a5e6f"
      },
      "execution_count": 11,
      "outputs": [
        {
          "output_type": "execute_result",
          "data": {
            "text/plain": [
              "array([  0,   0,   0,   0,   0,   0,   0,   0,   0,   0,   0,   0,   0,\n",
              "         0,   0,   0,   0,   0,   0,   0,   0,   0,   0,   0,   0,   0,\n",
              "         0,   0,   0,   0,   0,   0,   0,   0,   0,   0,   0,   0,   0,\n",
              "         0,   0,   0,   0,   0,   0,   0,   0,   0,   0,   0,   0,   0,\n",
              "         0,   0,   0,   0,   0,   0,   0,   0,   0,   0,   0,   0,   0,\n",
              "         0,   0,   0,   0,   0,   0,   0,   0,   0,   0,   0,   0,   0,\n",
              "         0,   0,   0,   0,   0,   0,   0,   0,   0,   0,   0,   0,   0,\n",
              "         0,   0,   0,   0,   0,   0,   0,   0,   0,   0,   0,   0,   0,\n",
              "         0,   0,   0,   0,   0,   0, 185, 127,   6, 885,   1,   1,  25,\n",
              "        76,  60,   1], dtype=int32)"
            ]
          },
          "metadata": {},
          "execution_count": 11
        }
      ]
    },
    {
      "cell_type": "code",
      "source": [
        "print(f\"Nilai y_test[1] : {y_test[1]}\")"
      ],
      "metadata": {
        "colab": {
          "base_uri": "https://localhost:8080/"
        },
        "id": "Tajfsj4TtvSY",
        "outputId": "9947356d-a0bd-47b1-eb36-51bad8419c64"
      },
      "execution_count": 12,
      "outputs": [
        {
          "output_type": "stream",
          "name": "stdout",
          "text": [
            "Nilai y_test[1] : 0\n"
          ]
        }
      ]
    },
    {
      "cell_type": "code",
      "source": [
        "model.predict([[ 0,   0,   0,   0,   0,   0,   0,   0,   0,   0,   0,   0,   0,\n",
        "         0,   0,   0,   0,   0,   0,   0,   0,   0,   0,   0,   0,   0,\n",
        "         0,   0,   0,   0,   0,   0,   0,   0,   0,   0,   0,   0,   0,\n",
        "         0,   0,   0,   0,   0,   0,   0,   0,   0,   0,   0,   0,   0,\n",
        "         0,   0,   0,   0,   0,   0,   0,   0,   0,   0,   0,   0,   0,\n",
        "         0,   0,   0,   0,   0,   0,   0,   0,   0,   0,   0,   0,   0,\n",
        "         0,   0,   0,   0,   0,   0,   0,   0,   0,   0,   0,   0,   0,\n",
        "         0,   0,   0,   0,   0,   0,   0,   0,   0,   0,   0,   0,   0,\n",
        "         0,   0,   0,   0,   0,   0, 185, 127,   6, 885,   1,   1,  25,\n",
        "        76,  60,   1]])"
      ],
      "metadata": {
        "colab": {
          "base_uri": "https://localhost:8080/"
        },
        "id": "MpMm5AFwv7SN",
        "outputId": "75323053-e968-45b9-b840-c319afd871ca"
      },
      "execution_count": 14,
      "outputs": [
        {
          "output_type": "stream",
          "name": "stdout",
          "text": [
            "1/1 [==============================] - 0s 79ms/step\n"
          ]
        },
        {
          "output_type": "execute_result",
          "data": {
            "text/plain": [
              "array([[0.09405421]], dtype=float32)"
            ]
          },
          "metadata": {},
          "execution_count": 14
        }
      ]
    }
  ]
}